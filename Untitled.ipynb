{
 "cells": [
  {
   "cell_type": "code",
   "execution_count": 1,
   "metadata": {
    "collapsed": true
   },
   "outputs": [],
   "source": [
    "import requests\n",
    "import pprint as pp\n",
    "import csv\n",
    "import json\n",
    "import datetime\n",
    "import time\n",
    "from threading import Timer"
   ]
  },
  {
   "cell_type": "code",
   "execution_count": 2,
   "metadata": {
    "collapsed": true
   },
   "outputs": [],
   "source": [
    "def URLtoJSON (url, username = '825eafcfb72151832260c9e8463c7733', password='d6cf5380070ae236d8277b8f10817d86'):\n",
    "    j = (str(requests.get(url, auth=(username, password)).content,'utf-8'));\n",
    "    d = json.loads(j);\n",
    "    return d;"
   ]
  },
  {
   "cell_type": "code",
<<<<<<< HEAD
   "execution_count": 3,
=======
   "execution_count": null,
>>>>>>> upstream/master
   "metadata": {},
   "outputs": [
    {
     "name": "stdout",
     "output_type": "stream",
     "text": [
      "Working...\n",
      "...while you're waiting, whose minding the store\n",
      "Working...\n",
      "...while you're waiting, whose minding the store\n",
      "Working...\n",
      "...while you're waiting, whose minding the store\n",
      "Working...\n",
<<<<<<< HEAD
      "...while you're waiting, whose minding the store\n",
      "Working...\n",
      "...while you're waiting, whose minding the store\n",
      "Working...\n",
      "...while you're waiting, whose minding the store\n",
      "Working...\n",
      "...while you're waiting, whose minding the store\n",
      "Working...\n",
      "...while you're waiting, whose minding the store\n",
      "Working...\n",
      "...while you're waiting, whose minding the store\n",
      "Working...\n",
      "...while you're waiting, whose minding the store\n",
      "Working...\n",
      "...while you're waiting, whose minding the store\n",
      "Working...\n",
      "...while you're waiting, whose minding the store\n",
      "Working...\n",
      "...while you're waiting, whose minding the store\n",
      "Working...\n",
      "...while you're waiting, whose minding the store\n"
     ]
    },
    {
     "ename": "KeyboardInterrupt",
     "evalue": "",
     "output_type": "error",
     "traceback": [
      "\u001b[1;31m---------------------------------------------------------------------------\u001b[0m",
      "\u001b[1;31mKeyboardInterrupt\u001b[0m                         Traceback (most recent call last)",
      "\u001b[1;32m<ipython-input-3-f1fb3d445609>\u001b[0m in \u001b[0;36m<module>\u001b[1;34m()\u001b[0m\n\u001b[0;32m     29\u001b[0m     \u001b[0melapsedTime\u001b[0m \u001b[1;33m=\u001b[0m \u001b[0mdatetime\u001b[0m\u001b[1;33m.\u001b[0m\u001b[0mdatetime\u001b[0m\u001b[1;33m.\u001b[0m\u001b[0mnow\u001b[0m\u001b[1;33m(\u001b[0m\u001b[1;33m)\u001b[0m \u001b[1;33m-\u001b[0m \u001b[0mstartTime\u001b[0m\u001b[1;33m\u001b[0m\u001b[0m\n\u001b[0;32m     30\u001b[0m     \u001b[1;32mif\u001b[0m \u001b[0melapsedTime\u001b[0m\u001b[1;33m.\u001b[0m\u001b[0mtotal_seconds\u001b[0m\u001b[1;33m(\u001b[0m\u001b[1;33m)\u001b[0m \u001b[1;33m<\u001b[0m \u001b[1;36m60\u001b[0m\u001b[1;33m:\u001b[0m\u001b[1;33m\u001b[0m\u001b[0m\n\u001b[1;32m---> 31\u001b[1;33m         \u001b[0mtime\u001b[0m\u001b[1;33m.\u001b[0m\u001b[0msleep\u001b[0m\u001b[1;33m(\u001b[0m\u001b[1;36m60\u001b[0m \u001b[1;33m-\u001b[0m \u001b[0melapsedTime\u001b[0m\u001b[1;33m.\u001b[0m\u001b[0mtotal_seconds\u001b[0m\u001b[1;33m(\u001b[0m\u001b[1;33m)\u001b[0m\u001b[1;33m)\u001b[0m\u001b[1;33m\u001b[0m\u001b[0m\n\u001b[0m\u001b[0;32m     32\u001b[0m \u001b[1;33m\u001b[0m\u001b[0m\n\u001b[0;32m     33\u001b[0m     \u001b[1;31m# always close the session\u001b[0m\u001b[1;33m\u001b[0m\u001b[1;33m\u001b[0m\u001b[0m\n",
      "\u001b[1;31mKeyboardInterrupt\u001b[0m: "
     ]
=======
      "...while you're waiting, whose minding the store\n"
     ]
>>>>>>> upstream/master
    }
   ],
   "source": [
    "# if there is a problem connecting to the api the data collection will not stop\n",
    "requestSucceeded = False\n",
    "while (not requestSucceeded): \n",
    "    try:               \n",
    "        tripUpdates = URLtoJSON('https://gtfsapi.metrarail.com/gtfs/tripUpdates')\n",
    "    \n",
    "    except requests.exceptions.RequestException as e:\n",
    "        print (e)\n",
    "        print (\"Caught exception connecting to server. Try again in 1 minute...\")\n",
    "        time.sleep(60)\n",
    "    else:\n",
    "        requestSucceeded = True\n",
    "        \n",
    "\n",
    "# data collection loop\n",
    "while (requestSucceeded):\n",
    "        \n",
    "    startTime = datetime.datetime.now()   \n",
    "    print (\"Working...\"), startTime     \n",
    "    \n",
    "    for i in range(len(tripUpdates)):\n",
    "        data = [datetime.datetime.now(), tripUpdates[i]['id'], tripUpdates[i]['trip_update']['stop_time_update'][0]['arrival']['delay'], tripUpdates[i]['trip_update']['position']['vehicle']['position']['latitude'], tripUpdates[i]['trip_update']['position']['vehicle']['position']['longitude']]\n",
    "\n",
    "        with open(\"output.csv\",\"a\", newline='') as fp:\n",
    "            wr_trial = csv.writer(fp, dialect = 'excel')\n",
    "            wr_trial.writerow(data)\n",
    "        \n",
    "    print (\"...while you're waiting, whose minding the store\")\n",
    "    elapsedTime = datetime.datetime.now() - startTime\n",
    "    if elapsedTime.total_seconds() < 60:\n",
    "        time.sleep(60 - elapsedTime.total_seconds())\n",
    "        \n",
    "    # always close the session \n",
    "session.close()\n"
   ]
  },
  {
   "cell_type": "code",
   "execution_count": null,
   "metadata": {
    "collapsed": true
   },
   "outputs": [],
   "source": []
  }
 ],
 "metadata": {
  "kernelspec": {
   "display_name": "Python 3",
   "language": "python",
   "name": "python3"
  },
  "language_info": {
   "codemirror_mode": {
    "name": "ipython",
    "version": 3
   },
   "file_extension": ".py",
   "mimetype": "text/x-python",
   "name": "python",
   "nbconvert_exporter": "python",
   "pygments_lexer": "ipython3",
   "version": "3.6.3"
  }
 },
 "nbformat": 4,
 "nbformat_minor": 2
}
