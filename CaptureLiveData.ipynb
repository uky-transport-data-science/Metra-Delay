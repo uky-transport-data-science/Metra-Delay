{
 "cells": [
  {
   "cell_type": "code",
   "execution_count": 1,
   "metadata": {
    "collapsed": true
   },
   "outputs": [],
   "source": [
    "import requests\n",
    "import pprint as pp\n",
    "import csv\n",
    "import json\n",
    "import datetime\n",
    "import time\n",
    "from threading import Timer"
   ]
  },
  {
   "cell_type": "code",
   "execution_count": 2,
   "metadata": {
    "collapsed": true
   },
   "outputs": [],
   "source": [
    "# metra api username and password\n",
    "def URLtoJSON (url, username = '0ed25f15c35da1e20c3cda36d39314d8', password='5321251990171ca803edd0621fc96e22'):\n",
    "    j = (str(requests.get(url, auth=(username, password)).content,'utf-8'))\n",
    "    d = json.loads(j)\n",
    "    return d;"
   ]
  },
  {
   "cell_type": "code",
   "execution_count": null,
   "metadata": {
    "collapsed": true
   },
   "outputs": [],
   "source": [
    "#metra api URL\n",
    "tripUpdates = URLtoJSON('https://gtfsapi.metrarail.com/gtfs/tripUpdates')"
   ]
  },
  {
   "cell_type": "code",
   "execution_count": null,
   "metadata": {},
   "outputs": [
    {
     "name": "stdout",
     "output_type": "stream",
     "text": [
      "Working...\n",
      "...while you're waiting, who's minding the store\n"
     ]
    }
   ],
   "source": [
    "# if there is an error returned while connecting to the api, the loop will continue after a 60 second pause\n",
    "requestSucceeded = False\n",
    "while (not requestSucceeded): \n",
    "    try:               \n",
    "        tripUpdates = URLtoJSON('https://gtfsapi.metrarail.com/gtfs/tripUpdates')\n",
    "\n",
    "    except requests.exceptions.RequestException as e:\n",
    "        print (e)\n",
    "        print (\"Caught exception connecting to server. Try again in 1 minute...\")\n",
    "        time.sleep(60)\n",
    "    else:\n",
    "        requestSucceeded = True\n",
    "        \n",
    "\n",
    "# data collection loop\n",
    "while (requestSucceeded):\n",
    "        \n",
    "    startTime = datetime.datetime.now()   \n",
    "    print (\"Working...\"), startTime     \n",
    "    \n",
    "    for i in range(len(tripUpdates)):\n",
    "        #specified data taken from api and retained in the csv file\n",
    "        data = [datetime.datetime.now(), tripUpdates[i]['id'], tripUpdates[i]['trip_update']['stop_time_update'][0]['arrival']['delay'], tripUpdates[i]['trip_update']['position']['vehicle']['position']['latitude'], tripUpdates[i]['trip_update']['position']['vehicle']['position']['longitude']]\n",
    "\n",
    "        with open(\"output.csv\",\"a\", newline='') as fp:\n",
    "            wr = csv.writer(fp, dialect = 'excel')\n",
    "            wr.writerow(data)\n",
    "    #the loop will restart after 60 seconds of collecting a sample   \n",
    "    print (\"...while you're waiting, who's minding the store\")\n",
    "    elapsedTime = datetime.datetime.now() - startTime\n",
    "    if elapsedTime.total_seconds() < 60:\n",
    "        time.sleep(60 - elapsedTime.total_seconds())\n",
    "        \n",
    "    # always close the session. Interrupt kernel to stop data collection.\n",
    "session.close()\n",
    "# the kernel must be interrupted to stop collection accessing the csv file will stop data collection"
   ]
  },
  {
   "cell_type": "code",
   "execution_count": null,
   "metadata": {
    "collapsed": true
   },
   "outputs": [],
   "source": []
  }
 ],
 "metadata": {
  "kernelspec": {
   "display_name": "Python 2",
   "language": "python",
   "name": "python2"
  },
  "language_info": {
   "codemirror_mode": {
    "name": "ipython",
    "version": 2
   },
   "file_extension": ".py",
   "mimetype": "text/x-python",
   "name": "python",
   "nbconvert_exporter": "python",
   "pygments_lexer": "ipython2",
   "version": "2.7.14"
  }
 },
 "nbformat": 4,
 "nbformat_minor": 2
}
